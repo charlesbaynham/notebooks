{
 "cells": [
  {
   "cell_type": "markdown",
   "id": "04f64233-0c80-4ed1-8a69-0e9ba27fc6fb",
   "metadata": {},
   "source": [
    "The dice game\n",
    "=============\n",
    "\n",
    "Rules:\n",
    "\n",
    "\n",
    "1. Role two dice, one red, one blue.\n",
    "1. There are seven players. Six are assigned to the numbers on the red die, one is given a number from the blue die.\n",
    "1. Each player gets a point if their number is selected on the correctly coloured die.\n",
    "\n",
    "a) What is the probability of a red / blue player being the first to 10 points?\n",
    "\n",
    "b) What is the probability of a red / blue player being the last to 10 points?"
   ]
  },
  {
   "cell_type": "code",
   "execution_count": 2,
   "id": "47da2445-34c2-47c5-befa-28613ab9e4bf",
   "metadata": {},
   "outputs": [],
   "source": [
    "import matplotlib\n",
    "import numpy as np"
   ]
  },
  {
   "cell_type": "code",
   "execution_count": null,
   "id": "c8ca0a0c-cfd8-4423-9211-7c5c67835208",
   "metadata": {},
   "outputs": [],
   "source": []
  }
 ],
 "metadata": {
  "kernelspec": {
   "display_name": "Python 3 (ipykernel)",
   "language": "python",
   "name": "python3"
  },
  "language_info": {
   "codemirror_mode": {
    "name": "ipython",
    "version": 3
   },
   "file_extension": ".py",
   "mimetype": "text/x-python",
   "name": "python",
   "nbconvert_exporter": "python",
   "pygments_lexer": "ipython3",
   "version": "3.12.3"
  }
 },
 "nbformat": 4,
 "nbformat_minor": 5
}
